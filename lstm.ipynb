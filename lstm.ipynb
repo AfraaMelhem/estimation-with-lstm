{
 "cells": [
  {
   "cell_type": "code",
   "execution_count": 1,
   "metadata": {},
   "outputs": [],
   "source": [
    "import pandas as pd\n",
    "import numpy as np\n",
    "import matplotlib.pyplot as plt\n",
    "%matplotlib inline"
   ]
  },
  {
   "cell_type": "code",
   "execution_count": 2,
   "metadata": {},
   "outputs": [],
   "source": [
    "dataframe = pd.read_csv('sales.csv', usecols=[1], engine='python')"
   ]
  },
  {
   "cell_type": "code",
   "execution_count": 3,
   "metadata": {},
   "outputs": [
    {
     "data": {
      "text/html": [
       "<div>\n",
       "<style scoped>\n",
       "    .dataframe tbody tr th:only-of-type {\n",
       "        vertical-align: middle;\n",
       "    }\n",
       "\n",
       "    .dataframe tbody tr th {\n",
       "        vertical-align: top;\n",
       "    }\n",
       "\n",
       "    .dataframe thead th {\n",
       "        text-align: right;\n",
       "    }\n",
       "</style>\n",
       "<table border=\"1\" class=\"dataframe\">\n",
       "  <thead>\n",
       "    <tr style=\"text-align: right;\">\n",
       "      <th></th>\n",
       "      <th>2815</th>\n",
       "    </tr>\n",
       "  </thead>\n",
       "  <tbody>\n",
       "    <tr>\n",
       "      <th>0</th>\n",
       "      <td>2751</td>\n",
       "    </tr>\n",
       "    <tr>\n",
       "      <th>1</th>\n",
       "      <td>2755</td>\n",
       "    </tr>\n",
       "    <tr>\n",
       "      <th>2</th>\n",
       "      <td>2721</td>\n",
       "    </tr>\n",
       "    <tr>\n",
       "      <th>3</th>\n",
       "      <td>2946</td>\n",
       "    </tr>\n",
       "    <tr>\n",
       "      <th>4</th>\n",
       "      <td>3036</td>\n",
       "    </tr>\n",
       "    <tr>\n",
       "      <th>...</th>\n",
       "      <td>...</td>\n",
       "    </tr>\n",
       "    <tr>\n",
       "      <th>99</th>\n",
       "      <td>4618</td>\n",
       "    </tr>\n",
       "    <tr>\n",
       "      <th>100</th>\n",
       "      <td>5312</td>\n",
       "    </tr>\n",
       "    <tr>\n",
       "      <th>101</th>\n",
       "      <td>4298</td>\n",
       "    </tr>\n",
       "    <tr>\n",
       "      <th>102</th>\n",
       "      <td>1413</td>\n",
       "    </tr>\n",
       "    <tr>\n",
       "      <th>103</th>\n",
       "      <td>5877</td>\n",
       "    </tr>\n",
       "  </tbody>\n",
       "</table>\n",
       "<p>104 rows × 1 columns</p>\n",
       "</div>"
      ],
      "text/plain": [
       "     2815\n",
       "0    2751\n",
       "1    2755\n",
       "2    2721\n",
       "3    2946\n",
       "4    3036\n",
       "..    ...\n",
       "99   4618\n",
       "100  5312\n",
       "101  4298\n",
       "102  1413\n",
       "103  5877\n",
       "\n",
       "[104 rows x 1 columns]"
      ]
     },
     "execution_count": 3,
     "metadata": {},
     "output_type": "execute_result"
    }
   ],
   "source": [
    "dataframe"
   ]
  },
  {
   "cell_type": "code",
   "execution_count": 4,
   "metadata": {},
   "outputs": [
    {
     "name": "stdout",
     "output_type": "stream",
     "text": [
      "<class 'pandas.core.frame.DataFrame'>\n",
      "RangeIndex: 104 entries, 0 to 103\n",
      "Data columns (total 1 columns):\n",
      " #   Column  Non-Null Count  Dtype\n",
      "---  ------  --------------  -----\n",
      " 0   2815    104 non-null    int64\n",
      "dtypes: int64(1)\n",
      "memory usage: 960.0 bytes\n"
     ]
    }
   ],
   "source": [
    "dataframe.info()"
   ]
  },
  {
   "cell_type": "code",
   "execution_count": 5,
   "metadata": {},
   "outputs": [],
   "source": [
    "from sklearn.preprocessing import MinMaxScaler\n",
    "scaler=MinMaxScaler(feature_range=(0,1))\n",
    "df1=scaler.fit_transform(np.array(dataframe).reshape(-1,1))"
   ]
  },
  {
   "cell_type": "code",
   "execution_count": 6,
   "metadata": {},
   "outputs": [
    {
     "data": {
      "text/plain": [
       "array([[0.10701432],\n",
       "       [0.10733424],\n",
       "       [0.10461489],\n",
       "       [0.12261057],\n",
       "       [0.12980885],\n",
       "       [0.06950332],\n",
       "       [0.06390466],\n",
       "       [0.12069103],\n",
       "       [0.23098456],\n",
       "       [0.34799648],\n",
       "       [0.47180677],\n",
       "       [0.09021835],\n",
       "       [0.08493961],\n",
       "       [0.12940894],\n",
       "       [0.14820443],\n",
       "       [0.18899464],\n",
       "       [0.14532512],\n",
       "       [0.129169  ],\n",
       "       [0.02767336],\n",
       "       [0.17451812],\n",
       "       [0.24482124],\n",
       "       [0.43389586],\n",
       "       [0.55538671],\n",
       "       [0.13596737],\n",
       "       [0.12740942],\n",
       "       [0.21066944],\n",
       "       [0.1687595 ],\n",
       "       [0.20187155],\n",
       "       [0.20579061],\n",
       "       [0.14772455],\n",
       "       [0.01279693],\n",
       "       [0.1691594 ],\n",
       "       [0.3037671 ],\n",
       "       [0.49596097],\n",
       "       [0.62712949],\n",
       "       [0.31688395],\n",
       "       [0.13396785],\n",
       "       [0.18435575],\n",
       "       [0.24802048],\n",
       "       [0.24850036],\n",
       "       [0.25002   ],\n",
       "       [0.17995681],\n",
       "       [0.01839559],\n",
       "       [0.26601616],\n",
       "       [0.32112293],\n",
       "       [0.55194753],\n",
       "       [0.73886267],\n",
       "       [0.17755739],\n",
       "       [0.23026474],\n",
       "       [0.21922739],\n",
       "       [0.21658802],\n",
       "       [0.25865792],\n",
       "       [0.26713589],\n",
       "       [0.20411101],\n",
       "       [0.02479405],\n",
       "       [0.29073022],\n",
       "       [0.44061425],\n",
       "       [0.67543789],\n",
       "       [0.79324962],\n",
       "       [0.20819003],\n",
       "       [0.20347117],\n",
       "       [0.24770055],\n",
       "       [0.22898504],\n",
       "       [0.28433176],\n",
       "       [0.26105735],\n",
       "       [0.1687595 ],\n",
       "       [0.03263217],\n",
       "       [0.30464688],\n",
       "       [0.43661521],\n",
       "       [0.75101976],\n",
       "       [1.        ],\n",
       "       [0.09805647],\n",
       "       [0.11885148],\n",
       "       [0.15652243],\n",
       "       [0.18611533],\n",
       "       [0.12109094],\n",
       "       [0.20579061],\n",
       "       [0.22426618],\n",
       "       [0.02599376],\n",
       "       [0.3045669 ],\n",
       "       [0.40078381],\n",
       "       [0.6741582 ],\n",
       "       [0.93281612],\n",
       "       [0.20163161],\n",
       "       [0.13988643],\n",
       "       [0.22978485],\n",
       "       [0.26097737],\n",
       "       [0.28769095],\n",
       "       [0.27681356],\n",
       "       [0.25753819],\n",
       "       [0.01967528],\n",
       "       [0.36295289],\n",
       "       [0.44533312],\n",
       "       [0.67487803],\n",
       "       [0.90034392],\n",
       "       [0.23474366],\n",
       "       [0.17203871],\n",
       "       [0.25305927],\n",
       "       [0.26993522],\n",
       "       [0.25633848],\n",
       "       [0.31184516],\n",
       "       [0.23074462],\n",
       "       [0.        ],\n",
       "       [0.35703431]])"
      ]
     },
     "execution_count": 6,
     "metadata": {},
     "output_type": "execute_result"
    }
   ],
   "source": [
    "df1"
   ]
  },
  {
   "cell_type": "code",
   "execution_count": 7,
   "metadata": {},
   "outputs": [],
   "source": [
    "training_size=int(len(df1)*0.65)\n",
    "test_size=len(df1)-training_size\n",
    "train_data,test_data=df1[0:training_size,:],df1[training_size:len(df1),:1]"
   ]
  },
  {
   "cell_type": "code",
   "execution_count": 8,
   "metadata": {},
   "outputs": [
    {
     "data": {
      "text/plain": [
       "(67, 37)"
      ]
     },
     "execution_count": 8,
     "metadata": {},
     "output_type": "execute_result"
    }
   ],
   "source": [
    "training_size,test_size"
   ]
  },
  {
   "cell_type": "code",
   "execution_count": 9,
   "metadata": {},
   "outputs": [],
   "source": [
    "def create_dataset(dataset, time_step=1):\n",
    "\tdataX, dataY = [], []\n",
    "\tfor i in range(len(dataset)-time_step-1):\n",
    "\t\ta = dataset[i:(i+time_step), 0] \n",
    "\t\tdataX.append(a)\n",
    "\t\tdataY.append(dataset[i + time_step, 0])\n",
    "\treturn np.array(dataX), np.array(dataY)"
   ]
  },
  {
   "cell_type": "code",
   "execution_count": 10,
   "metadata": {},
   "outputs": [],
   "source": [
    "time_step = 10\n",
    "X_train, y_train = create_dataset(train_data, time_step)\n",
    "X_test, ytest = create_dataset(test_data, time_step)"
   ]
  },
  {
   "cell_type": "code",
   "execution_count": 11,
   "metadata": {},
   "outputs": [
    {
     "name": "stdout",
     "output_type": "stream",
     "text": [
      "(56, 10)\n",
      "(56,)\n"
     ]
    },
    {
     "data": {
      "text/plain": [
       "(None, None)"
      ]
     },
     "execution_count": 11,
     "metadata": {},
     "output_type": "execute_result"
    }
   ],
   "source": [
    "print(X_train.shape), print(y_train.shape)\n",
    "print(\"hlhlh\")"
   ]
  },
  {
   "cell_type": "code",
   "execution_count": 12,
   "metadata": {},
   "outputs": [],
   "source": [
    "X_train =X_train.reshape(X_train.shape[0],X_train.shape[1] , 1)\n",
    "X_test = X_test.reshape(X_test.shape[0],X_test.shape[1] , 1)"
   ]
  },
  {
   "cell_type": "code",
   "execution_count": 13,
   "metadata": {},
   "outputs": [],
   "source": [
    "### Create the Stacked LSTM model\n",
    "from tensorflow.keras.models import Sequential\n",
    "from tensorflow.keras.layers import Dense\n",
    "from tensorflow.keras.layers import LSTM\n",
    "\n",
    "\n",
    "model=Sequential()\n",
    "model.add(LSTM(50,return_sequences=True,input_shape=(100,1)))\n",
    "model.add(LSTM(50,return_sequences=True))\n",
    "model.add(LSTM(50))\n",
    "model.add(Dense(1))\n",
    "model.compile(loss='mean_squared_error',optimizer='adam')"
   ]
  },
  {
   "cell_type": "code",
   "execution_count": 14,
   "metadata": {},
   "outputs": [
    {
     "name": "stdout",
     "output_type": "stream",
     "text": [
      "Epoch 1/100\n",
      "WARNING:tensorflow:Model was constructed with shape (None, 100, 1) for input KerasTensor(type_spec=TensorSpec(shape=(None, 100, 1), dtype=tf.float32, name='lstm_input'), name='lstm_input', description=\"created by layer 'lstm_input'\"), but it was called on an input with incompatible shape (None, 10, 1).\n",
      "WARNING:tensorflow:Model was constructed with shape (None, 100, 1) for input KerasTensor(type_spec=TensorSpec(shape=(None, 100, 1), dtype=tf.float32, name='lstm_input'), name='lstm_input', description=\"created by layer 'lstm_input'\"), but it was called on an input with incompatible shape (None, 10, 1).\n",
      "1/1 [==============================] - ETA: 0s - loss: 0.0975WARNING:tensorflow:Model was constructed with shape (None, 100, 1) for input KerasTensor(type_spec=TensorSpec(shape=(None, 100, 1), dtype=tf.float32, name='lstm_input'), name='lstm_input', description=\"created by layer 'lstm_input'\"), but it was called on an input with incompatible shape (None, 10, 1).\n",
      "1/1 [==============================] - 7s 7s/step - loss: 0.0975 - val_loss: 0.1437\n",
      "Epoch 2/100\n",
      "1/1 [==============================] - 0s 73ms/step - loss: 0.0869 - val_loss: 0.1300\n",
      "Epoch 3/100\n",
      "1/1 [==============================] - 0s 68ms/step - loss: 0.0769 - val_loss: 0.1167\n",
      "Epoch 4/100\n",
      "1/1 [==============================] - 0s 65ms/step - loss: 0.0671 - val_loss: 0.1035\n",
      "Epoch 5/100\n",
      "1/1 [==============================] - 0s 73ms/step - loss: 0.0576 - val_loss: 0.0907\n",
      "Epoch 6/100\n",
      "1/1 [==============================] - 0s 67ms/step - loss: 0.0486 - val_loss: 0.0790\n",
      "Epoch 7/100\n",
      "1/1 [==============================] - 0s 71ms/step - loss: 0.0405 - val_loss: 0.0698\n",
      "Epoch 8/100\n",
      "1/1 [==============================] - 0s 65ms/step - loss: 0.0346 - val_loss: 0.0650\n",
      "Epoch 9/100\n",
      "1/1 [==============================] - 0s 63ms/step - loss: 0.0323 - val_loss: 0.0665\n",
      "Epoch 10/100\n",
      "1/1 [==============================] - 0s 65ms/step - loss: 0.0348 - val_loss: 0.0710\n",
      "Epoch 11/100\n",
      "1/1 [==============================] - 0s 64ms/step - loss: 0.0394 - val_loss: 0.0725\n",
      "Epoch 12/100\n",
      "1/1 [==============================] - 0s 61ms/step - loss: 0.0411 - val_loss: 0.0704\n",
      "Epoch 13/100\n",
      "1/1 [==============================] - 0s 61ms/step - loss: 0.0396 - val_loss: 0.0671\n",
      "Epoch 14/100\n",
      "1/1 [==============================] - 0s 60ms/step - loss: 0.0367 - val_loss: 0.0645\n",
      "Epoch 15/100\n",
      "1/1 [==============================] - 0s 64ms/step - loss: 0.0340 - val_loss: 0.0633\n",
      "Epoch 16/100\n",
      "1/1 [==============================] - 0s 64ms/step - loss: 0.0324 - val_loss: 0.0634\n",
      "Epoch 17/100\n",
      "1/1 [==============================] - 0s 63ms/step - loss: 0.0318 - val_loss: 0.0643\n",
      "Epoch 18/100\n",
      "1/1 [==============================] - 0s 64ms/step - loss: 0.0319 - val_loss: 0.0656\n",
      "Epoch 19/100\n",
      "1/1 [==============================] - 0s 64ms/step - loss: 0.0324 - val_loss: 0.0668\n",
      "Epoch 20/100\n",
      "1/1 [==============================] - 0s 62ms/step - loss: 0.0330 - val_loss: 0.0676\n",
      "Epoch 21/100\n",
      "1/1 [==============================] - 0s 63ms/step - loss: 0.0334 - val_loss: 0.0681\n",
      "Epoch 22/100\n",
      "1/1 [==============================] - 0s 64ms/step - loss: 0.0336 - val_loss: 0.0681\n",
      "Epoch 23/100\n",
      "1/1 [==============================] - 0s 64ms/step - loss: 0.0336 - val_loss: 0.0677\n",
      "Epoch 24/100\n",
      "1/1 [==============================] - 0s 63ms/step - loss: 0.0334 - val_loss: 0.0670\n",
      "Epoch 25/100\n",
      "1/1 [==============================] - 0s 62ms/step - loss: 0.0330 - val_loss: 0.0660\n",
      "Epoch 26/100\n",
      "1/1 [==============================] - 0s 64ms/step - loss: 0.0326 - val_loss: 0.0649\n",
      "Epoch 27/100\n",
      "1/1 [==============================] - 0s 64ms/step - loss: 0.0321 - val_loss: 0.0638\n",
      "Epoch 28/100\n",
      "1/1 [==============================] - 0s 68ms/step - loss: 0.0316 - val_loss: 0.0627\n",
      "Epoch 29/100\n",
      "1/1 [==============================] - 0s 63ms/step - loss: 0.0313 - val_loss: 0.0618\n",
      "Epoch 30/100\n",
      "1/1 [==============================] - 0s 61ms/step - loss: 0.0311 - val_loss: 0.0611\n",
      "Epoch 31/100\n",
      "1/1 [==============================] - 0s 63ms/step - loss: 0.0310 - val_loss: 0.0605\n",
      "Epoch 32/100\n",
      "1/1 [==============================] - 0s 61ms/step - loss: 0.0311 - val_loss: 0.0602\n",
      "Epoch 33/100\n",
      "1/1 [==============================] - 0s 64ms/step - loss: 0.0313 - val_loss: 0.0599\n",
      "Epoch 34/100\n",
      "1/1 [==============================] - 0s 66ms/step - loss: 0.0314 - val_loss: 0.0598\n",
      "Epoch 35/100\n",
      "1/1 [==============================] - 0s 63ms/step - loss: 0.0315 - val_loss: 0.0596\n",
      "Epoch 36/100\n",
      "1/1 [==============================] - 0s 65ms/step - loss: 0.0315 - val_loss: 0.0596\n",
      "Epoch 37/100\n",
      "1/1 [==============================] - 0s 63ms/step - loss: 0.0314 - val_loss: 0.0596\n",
      "Epoch 38/100\n",
      "1/1 [==============================] - 0s 64ms/step - loss: 0.0312 - val_loss: 0.0597\n",
      "Epoch 39/100\n",
      "1/1 [==============================] - 0s 61ms/step - loss: 0.0310 - val_loss: 0.0598\n",
      "Epoch 40/100\n",
      "1/1 [==============================] - 0s 64ms/step - loss: 0.0309 - val_loss: 0.0601\n",
      "Epoch 41/100\n",
      "1/1 [==============================] - 0s 76ms/step - loss: 0.0307 - val_loss: 0.0604\n",
      "Epoch 42/100\n",
      "1/1 [==============================] - 0s 64ms/step - loss: 0.0307 - val_loss: 0.0607\n",
      "Epoch 43/100\n",
      "1/1 [==============================] - 0s 65ms/step - loss: 0.0307 - val_loss: 0.0610\n",
      "Epoch 44/100\n",
      "1/1 [==============================] - 0s 68ms/step - loss: 0.0307 - val_loss: 0.0613\n",
      "Epoch 45/100\n",
      "1/1 [==============================] - 0s 64ms/step - loss: 0.0307 - val_loss: 0.0614\n",
      "Epoch 46/100\n",
      "1/1 [==============================] - 0s 65ms/step - loss: 0.0308 - val_loss: 0.0614\n",
      "Epoch 47/100\n",
      "1/1 [==============================] - 0s 63ms/step - loss: 0.0308 - val_loss: 0.0614\n",
      "Epoch 48/100\n",
      "1/1 [==============================] - 0s 64ms/step - loss: 0.0307 - val_loss: 0.0612\n",
      "Epoch 49/100\n",
      "1/1 [==============================] - 0s 63ms/step - loss: 0.0307 - val_loss: 0.0610\n",
      "Epoch 50/100\n",
      "1/1 [==============================] - 0s 63ms/step - loss: 0.0306 - val_loss: 0.0607\n",
      "Epoch 51/100\n",
      "1/1 [==============================] - 0s 64ms/step - loss: 0.0306 - val_loss: 0.0604\n",
      "Epoch 52/100\n",
      "1/1 [==============================] - 0s 62ms/step - loss: 0.0305 - val_loss: 0.0600\n",
      "Epoch 53/100\n",
      "1/1 [==============================] - 0s 66ms/step - loss: 0.0305 - val_loss: 0.0597\n",
      "Epoch 54/100\n",
      "1/1 [==============================] - 0s 62ms/step - loss: 0.0304 - val_loss: 0.0594\n",
      "Epoch 55/100\n",
      "1/1 [==============================] - 0s 62ms/step - loss: 0.0304 - val_loss: 0.0592\n",
      "Epoch 56/100\n",
      "1/1 [==============================] - 0s 62ms/step - loss: 0.0304 - val_loss: 0.0590\n",
      "Epoch 57/100\n",
      "1/1 [==============================] - 0s 62ms/step - loss: 0.0304 - val_loss: 0.0588\n",
      "Epoch 58/100\n",
      "1/1 [==============================] - 0s 63ms/step - loss: 0.0304 - val_loss: 0.0587\n",
      "Epoch 59/100\n",
      "1/1 [==============================] - 0s 67ms/step - loss: 0.0304 - val_loss: 0.0587\n",
      "Epoch 60/100\n",
      "1/1 [==============================] - 0s 66ms/step - loss: 0.0304 - val_loss: 0.0587\n",
      "Epoch 61/100\n",
      "1/1 [==============================] - 0s 99ms/step - loss: 0.0303 - val_loss: 0.0588\n",
      "Epoch 62/100\n",
      "1/1 [==============================] - 0s 66ms/step - loss: 0.0303 - val_loss: 0.0588\n",
      "Epoch 63/100\n",
      "1/1 [==============================] - 0s 67ms/step - loss: 0.0303 - val_loss: 0.0589\n",
      "Epoch 64/100\n",
      "1/1 [==============================] - 0s 64ms/step - loss: 0.0303 - val_loss: 0.0591\n",
      "Epoch 65/100\n",
      "1/1 [==============================] - 0s 64ms/step - loss: 0.0302 - val_loss: 0.0592\n",
      "Epoch 66/100\n",
      "1/1 [==============================] - 0s 66ms/step - loss: 0.0302 - val_loss: 0.0592\n",
      "Epoch 67/100\n",
      "1/1 [==============================] - 0s 65ms/step - loss: 0.0302 - val_loss: 0.0593\n",
      "Epoch 68/100\n",
      "1/1 [==============================] - 0s 62ms/step - loss: 0.0302 - val_loss: 0.0593\n",
      "Epoch 69/100\n",
      "1/1 [==============================] - 0s 63ms/step - loss: 0.0302 - val_loss: 0.0593\n",
      "Epoch 70/100\n",
      "1/1 [==============================] - 0s 68ms/step - loss: 0.0302 - val_loss: 0.0593\n",
      "Epoch 71/100\n",
      "1/1 [==============================] - 0s 63ms/step - loss: 0.0301 - val_loss: 0.0592\n",
      "Epoch 72/100\n",
      "1/1 [==============================] - 0s 62ms/step - loss: 0.0301 - val_loss: 0.0590\n",
      "Epoch 73/100\n",
      "1/1 [==============================] - 0s 62ms/step - loss: 0.0301 - val_loss: 0.0589\n",
      "Epoch 74/100\n",
      "1/1 [==============================] - 0s 62ms/step - loss: 0.0301 - val_loss: 0.0587\n",
      "Epoch 75/100\n",
      "1/1 [==============================] - 0s 63ms/step - loss: 0.0301 - val_loss: 0.0586\n",
      "Epoch 76/100\n",
      "1/1 [==============================] - 0s 64ms/step - loss: 0.0300 - val_loss: 0.0584\n",
      "Epoch 77/100\n",
      "1/1 [==============================] - 0s 64ms/step - loss: 0.0300 - val_loss: 0.0583\n",
      "Epoch 78/100\n",
      "1/1 [==============================] - 0s 67ms/step - loss: 0.0300 - val_loss: 0.0582\n",
      "Epoch 79/100\n",
      "1/1 [==============================] - 0s 63ms/step - loss: 0.0300 - val_loss: 0.0581\n",
      "Epoch 80/100\n",
      "1/1 [==============================] - 0s 65ms/step - loss: 0.0300 - val_loss: 0.0581\n",
      "Epoch 81/100\n",
      "1/1 [==============================] - 0s 64ms/step - loss: 0.0300 - val_loss: 0.0580\n",
      "Epoch 82/100\n",
      "1/1 [==============================] - 0s 63ms/step - loss: 0.0299 - val_loss: 0.0580\n",
      "Epoch 83/100\n",
      "1/1 [==============================] - 0s 65ms/step - loss: 0.0299 - val_loss: 0.0580\n",
      "Epoch 84/100\n",
      "1/1 [==============================] - 0s 66ms/step - loss: 0.0299 - val_loss: 0.0581\n",
      "Epoch 85/100\n",
      "1/1 [==============================] - 0s 66ms/step - loss: 0.0299 - val_loss: 0.0581\n",
      "Epoch 86/100\n",
      "1/1 [==============================] - 0s 69ms/step - loss: 0.0299 - val_loss: 0.0581\n",
      "Epoch 87/100\n",
      "1/1 [==============================] - 0s 67ms/step - loss: 0.0298 - val_loss: 0.0581\n",
      "Epoch 88/100\n",
      "1/1 [==============================] - 0s 64ms/step - loss: 0.0298 - val_loss: 0.0581\n",
      "Epoch 89/100\n",
      "1/1 [==============================] - 0s 64ms/step - loss: 0.0298 - val_loss: 0.0581\n",
      "Epoch 90/100\n",
      "1/1 [==============================] - 0s 63ms/step - loss: 0.0298 - val_loss: 0.0580\n",
      "Epoch 91/100\n",
      "1/1 [==============================] - 0s 63ms/step - loss: 0.0298 - val_loss: 0.0579\n",
      "Epoch 92/100\n",
      "1/1 [==============================] - 0s 64ms/step - loss: 0.0297 - val_loss: 0.0578\n",
      "Epoch 93/100\n",
      "1/1 [==============================] - 0s 63ms/step - loss: 0.0297 - val_loss: 0.0577\n",
      "Epoch 94/100\n",
      "1/1 [==============================] - 0s 64ms/step - loss: 0.0297 - val_loss: 0.0576\n",
      "Epoch 95/100\n",
      "1/1 [==============================] - 0s 63ms/step - loss: 0.0297 - val_loss: 0.0575\n",
      "Epoch 96/100\n",
      "1/1 [==============================] - 0s 64ms/step - loss: 0.0297 - val_loss: 0.0574\n",
      "Epoch 97/100\n",
      "1/1 [==============================] - 0s 63ms/step - loss: 0.0296 - val_loss: 0.0573\n",
      "Epoch 98/100\n",
      "1/1 [==============================] - 0s 64ms/step - loss: 0.0296 - val_loss: 0.0572\n",
      "Epoch 99/100\n",
      "1/1 [==============================] - 0s 64ms/step - loss: 0.0296 - val_loss: 0.0571\n",
      "Epoch 100/100\n",
      "1/1 [==============================] - 0s 67ms/step - loss: 0.0295 - val_loss: 0.0570\n"
     ]
    },
    {
     "data": {
      "text/plain": [
       "<tensorflow.python.keras.callbacks.History at 0x23c6be6a1c8>"
      ]
     },
     "execution_count": 14,
     "metadata": {},
     "output_type": "execute_result"
    }
   ],
   "source": [
    "model.fit(X_train,y_train,validation_data=(X_test,ytest),epochs=100,batch_size=64,verbose=1)"
   ]
  },
  {
   "cell_type": "code",
   "execution_count": 15,
   "metadata": {},
   "outputs": [
    {
     "name": "stdout",
     "output_type": "stream",
     "text": [
      "WARNING:tensorflow:Model was constructed with shape (None, 100, 1) for input KerasTensor(type_spec=TensorSpec(shape=(None, 100, 1), dtype=tf.float32, name='lstm_input'), name='lstm_input', description=\"created by layer 'lstm_input'\"), but it was called on an input with incompatible shape (None, 10, 1).\n"
     ]
    }
   ],
   "source": [
    "train_predict=model.predict(X_train)\n",
    "test_predict=model.predict(X_test)"
   ]
  },
  {
   "cell_type": "code",
   "execution_count": 16,
   "metadata": {},
   "outputs": [],
   "source": [
    "train_predict=scaler.inverse_transform(train_predict)\n",
    "test_predict=scaler.inverse_transform(test_predict)"
   ]
  },
  {
   "cell_type": "code",
   "execution_count": 17,
   "metadata": {},
   "outputs": [
    {
     "name": "stdout",
     "output_type": "stream",
     "text": [
      "Root Mean Squared Error: 4647.5712921912755\n"
     ]
    }
   ],
   "source": [
    "from sklearn import metrics\n",
    "print('Root Mean Squared Error:', np.sqrt(metrics.mean_squared_error(y_train,train_predict)))"
   ]
  },
  {
   "cell_type": "code",
   "execution_count": 18,
   "metadata": {},
   "outputs": [
    {
     "data": {
      "image/png": "[encoded data removed]",
      "text/plain": [
       "<Figure size 432x288 with 1 Axes>"
      ]
     },
     "metadata": {
      "needs_background": "light"
     },
     "output_type": "display_data"
    }
   ],
   "source": [
    "look_back=10\n",
    "trainPredictPlot = np.empty_like(df1)\n",
    "trainPredictPlot[:, :] = np.nan\n",
    "trainPredictPlot[look_back:len(train_predict)+look_back, :] = train_predict\n",
    "# shift test predictions for plotting\n",
    "testPredictPlot = np.empty_like(df1)\n",
    "testPredictPlot[:, :] = np.nan\n",
    "testPredictPlot[len(train_predict)+(look_back*2)+1:len(df1)-1, :] = test_predict\n",
    "# plot baseline and predictions\n",
    "plt.plot(scaler.inverse_transform(df1))\n",
    "plt.plot(trainPredictPlot)\n",
    "plt.plot(testPredictPlot)\n",
    "plt.show()"
   ]
  },
  {
   "cell_type": "code",
   "execution_count": null,
   "metadata": {},
   "outputs": [],
   "source": []
  }
 ],
 "metadata": {
  "interpreter": {
   "hash": "0600588c3b5f4418cbe7b5ebc6825b479f3bc010269d8b60d75058cdd010adfe"
  },
  "kernelspec": {
   "display_name": "Python 3.7.9 64-bit",
   "language": "python",
   "name": "python3"
  },
  "language_info": {
   "codemirror_mode": {
    "name": "ipython",
    "version": 3
   },
   "file_extension": ".py",
   "mimetype": "text/x-python",
   "name": "python",
   "nbconvert_exporter": "python",
   "pygments_lexer": "ipython3",
   "version": "3.7.9"
  },
  "orig_nbformat": 4
 },
 "nbformat": 4,
 "nbformat_minor": 2
}
